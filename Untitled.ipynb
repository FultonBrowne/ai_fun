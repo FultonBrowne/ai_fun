{
 "cells": [
  {
   "cell_type": "code",
   "execution_count": 11,
   "id": "8aa773c0-c013-442f-8872-f963d01427ee",
   "metadata": {},
   "outputs": [
    {
     "name": "stdout",
     "output_type": "stream",
     "text": [
      "The tensorboard extension is already loaded. To reload it, use:\n",
      "  %reload_ext tensorboard\n"
     ]
    }
   ],
   "source": [
    "import tensorflow as tf\n",
    "import numpy as np\n",
    "\n",
    "%load_ext tensorboard\n",
    "\n",
    "# create TensorFlow variables\n",
    "const = tf.Variable(2.0, name=\"const\")\n",
    "b = tf.Variable(2.0, name='b')\n",
    "c = tf.Variable(1.0, name='c')"
   ]
  },
  {
   "cell_type": "code",
   "execution_count": 12,
   "id": "870f9468-0668-4d62-8230-81570150bb52",
   "metadata": {},
   "outputs": [],
   "source": [
    "d = tf.add(b, c, name='d')\n",
    "e = tf.add(c, const, name='e')\n",
    "a = tf.multiply(d, e, name='a')"
   ]
  },
  {
   "cell_type": "code",
   "execution_count": 13,
   "id": "2cb3f6c4-393c-4c32-aaaa-a90dc06c544a",
   "metadata": {},
   "outputs": [],
   "source": [
    "d = b + c\n",
    "e = c + 2\n",
    "a = d * e"
   ]
  },
  {
   "cell_type": "code",
   "execution_count": 14,
   "id": "3f6df489-610a-4861-9c11-e59ad4a48de8",
   "metadata": {},
   "outputs": [],
   "source": [
    "b = tf.Variable(np.arange(0, 10), name='b')"
   ]
  },
  {
   "cell_type": "code",
   "execution_count": null,
   "id": "a4855aba-4918-41ee-a4ea-b1fd69027fd4",
   "metadata": {},
   "outputs": [],
   "source": []
  }
 ],
 "metadata": {
  "kernelspec": {
   "display_name": "Python 3 (ipykernel)",
   "language": "python",
   "name": "python3"
  },
  "language_info": {
   "codemirror_mode": {
    "name": "ipython",
    "version": 3
   },
   "file_extension": ".py",
   "mimetype": "text/x-python",
   "name": "python",
   "nbconvert_exporter": "python",
   "pygments_lexer": "ipython3",
   "version": "3.9.9"
  }
 },
 "nbformat": 4,
 "nbformat_minor": 5
}
