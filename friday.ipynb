{
 "cells": [
  {
   "cell_type": "markdown",
   "metadata": {},
   "source": [
    "# Friday\n",
    "A general purpose, adaptable through training, AI assistant.\n",
    "\n",
    "Imports first"
   ]
  },
  {
   "cell_type": "code",
   "execution_count": null,
   "metadata": {},
   "outputs": [],
   "source": [
    "import tensorflow as tf\n",
    "\n",
    "print(tf.__version__)"
   ]
  },
  {
   "cell_type": "markdown",
   "metadata": {},
   "source": [
    "Friday needs to be able to handle several input types.\n",
    "\n",
    "- Text (raw, could be HTML, commands, other info)\n",
    "- Images\n",
    "- Video (live or pre-recorded)\n",
    "- Audio\n",
    "- Bin data"
   ]
  },
  {
   "cell_type": "code",
   "execution_count": null,
   "metadata": {},
   "outputs": [],
   "source": [
    "def video_stream():\n",
    "\n",
    "def picture():\n",
    "\n",
    "def text():\n",
    "\n",
    "def audio():\n",
    "\n",
    "def bin_data():\n"
   ]
  },
  {
   "cell_type": "markdown",
   "metadata": {},
   "source": [
    "Now we need a keras model to, this is going to take a lot of modifications and tweaking."
   ]
  }
 ],
 "metadata": {
  "language_info": {
   "name": "plaintext"
  },
  "orig_nbformat": 4
 },
 "nbformat": 4,
 "nbformat_minor": 2
}
