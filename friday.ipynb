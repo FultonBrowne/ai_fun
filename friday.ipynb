{
 "cells": [
  {
   "cell_type": "markdown",
   "metadata": {},
   "source": [
    "# Friday\n",
    "A general purpose, adaptable through training, AI assistant."
   ]
  },
  {
   "cell_type": "code",
   "execution_count": 9,
   "metadata": {},
   "outputs": [
    {
     "name": "stdout",
     "output_type": "stream",
     "text": [
      "The tensorboard extension is already loaded. To reload it, use:\n",
      "  %reload_ext tensorboard\n"
     ]
    }
   ],
   "source": [
    "import tensorflow as tf\n",
    "from tensorflow import keras\n",
    "from tensorflow.keras import layers\n",
    "import datetime\n",
    "\n",
    "%load_ext tensorboard\n",
    "input_shape = [3, 3] # the input shape used in this notebook\n",
    "output_shape = [3, 3] # the output shape used in this notebook\n",
    "#some handy testing variables that are in the default input shape\n",
    "zeros = tf.zeros(input_shape)\n"
   ]
  },
  {
   "cell_type": "code",
   "execution_count": 10,
   "metadata": {},
   "outputs": [],
   "source": [
    "# Clear any logs from previous runs\n",
    "!rm -rf ./logs/ "
   ]
  },
  {
   "cell_type": "markdown",
   "metadata": {},
   "source": [
    "Lets build the friday model class. This needs to have the dynamic layer creation property built in to it"
   ]
  },
  {
   "cell_type": "code",
   "execution_count": 11,
   "metadata": {},
   "outputs": [],
   "source": [
    "class FridayModel(keras.Model):\n",
    "  TRAIN_MODE = 0 # For teaching basic things to friday\n",
    "  BASIC_MODE = 1 # For auto tests\n",
    "  FRIDAY_MODE = 2 # Full interative operation\n",
    "  def __init__(self):\n",
    "    super().__init__()\n",
    "    self.dense1 = layers.Dense(4, activation=tf.nn.relu)\n",
    "    self.dense2 = layers.Dense(5, activation=tf.nn.softmax)\n",
    "    self.dropout = layers.Dropout(0.5)\n",
    "\n",
    "  def call(self, inputs, training=0):\n",
    "    x = self.dense1(inputs)\n",
    "    match training:\n",
    "      case self.TRAIN_MODE:\n",
    "        x = self.dropout(x, training=True)\n",
    "      case self.BASIC_MODE:\n",
    "        print(\"do stuff this is a place holder\")\n",
    "      case self.FRIDAY_MODE:\n",
    "        print(\"yes\")\n",
    "    return self.dense2(x)\n"
   ]
  },
  {
   "cell_type": "markdown",
   "metadata": {},
   "source": [
    "Now we're going to create an instance of the model with the base layers and build it."
   ]
  },
  {
   "cell_type": "code",
   "execution_count": 12,
   "metadata": {},
   "outputs": [],
   "source": [
    "model = FridayModel()\n"
   ]
  },
  {
   "cell_type": "markdown",
   "metadata": {},
   "source": [
    "We're going to \"build\" the model now"
   ]
  },
  {
   "cell_type": "code",
   "execution_count": 13,
   "metadata": {},
   "outputs": [
    {
     "data": {
      "text/plain": [
       "<tf.Tensor: shape=(3, 5), dtype=float32, numpy=\n",
       "array([[0.2, 0.2, 0.2, 0.2, 0.2],\n",
       "       [0.2, 0.2, 0.2, 0.2, 0.2],\n",
       "       [0.2, 0.2, 0.2, 0.2, 0.2]], dtype=float32)>"
      ]
     },
     "execution_count": 13,
     "metadata": {},
     "output_type": "execute_result"
    }
   ],
   "source": [
    "model.call(zeros, training=TRAIN_MODE)\n",
    "\n",
    "model.call(zeros)"
   ]
  },
  {
   "cell_type": "markdown",
   "metadata": {},
   "source": [
    "Now lets take a look at the base model properties"
   ]
  },
  {
   "cell_type": "code",
   "execution_count": 14,
   "metadata": {},
   "outputs": [
    {
     "name": "stdout",
     "output_type": "stream",
     "text": [
      "friday_model\n",
      "None\n",
      "None\n"
     ]
    }
   ],
   "source": [
    "print(model.name)\n",
    "print(model.inputs)\n",
    "print(model.outputs)"
   ]
  },
  {
   "cell_type": "markdown",
   "metadata": {},
   "source": [
    "Lets start up TensorBoard before getting stuff going"
   ]
  },
  {
   "cell_type": "code",
   "execution_count": 15,
   "metadata": {},
   "outputs": [
    {
     "data": {
      "text/html": [
       "\n",
       "      <iframe id=\"tensorboard-frame-ecca51912e6fbca9\" width=\"100%\" height=\"800\" frameborder=\"0\">\n",
       "      </iframe>\n",
       "      <script>\n",
       "        (function() {\n",
       "          const frame = document.getElementById(\"tensorboard-frame-ecca51912e6fbca9\");\n",
       "          const url = new URL(\"/\", window.location);\n",
       "          const port = 6006;\n",
       "          if (port) {\n",
       "            url.port = port;\n",
       "          }\n",
       "          frame.src = url;\n",
       "        })();\n",
       "      </script>\n",
       "    "
      ],
      "text/plain": [
       "<IPython.core.display.HTML object>"
      ]
     },
     "metadata": {},
     "output_type": "display_data"
    }
   ],
   "source": [
    "log_dir = \"logs/fit/\" + datetime.datetime.now().strftime(\"%Y%m%d-%H%M%S\")\n",
    "tensorboard_callback = tf.keras.callbacks.TensorBoard(log_dir=log_dir, histogram_freq=1)\n",
    "%tensorboard --logdir logs/fit"
   ]
  }
 ],
 "metadata": {
  "kernelspec": {
   "display_name": "Python 3 (ipykernel)",
   "language": "python",
   "name": "python3"
  },
  "language_info": {
   "codemirror_mode": {
    "name": "ipython",
    "version": 3
   },
   "file_extension": ".py",
   "mimetype": "text/x-python",
   "name": "python",
   "nbconvert_exporter": "python",
   "pygments_lexer": "ipython3",
   "version": "3.10.2"
  }
 },
 "nbformat": 4,
 "nbformat_minor": 4
}
