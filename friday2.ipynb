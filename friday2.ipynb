{
 "cells": [
  {
   "cell_type": "markdown",
   "metadata": {},
   "source": [
    "# Friday (prototype 2)\n",
    "A dynamic NN based assistant and framework\n",
    "\n",
    "rewritten with a Dynamic NN framework to make my life a little easier. If you would like to see a half built version in tensorflow checkout friday.ipynb\n",
    "\n",
    "NOTE: quite a bit of this notebook rips off https://github.com/ml-jku/hopfield-layers/blob/master/examples/bit_pattern/bit_pattern_demo.ipynb"
   ]
  },
  {
   "cell_type": "markdown",
   "metadata": {},
   "source": [
    "This relies on the non pip package hopefield-layers"
   ]
  },
  {
   "cell_type": "code",
   "execution_count": 1,
   "metadata": {},
   "outputs": [
    {
     "name": "stdout",
     "output_type": "stream",
     "text": [
      "Defaulting to user installation because normal site-packages is not writeable\n",
      "Collecting git+https://github.com/ml-jku/hopfield-layers\n",
      "  Cloning https://github.com/ml-jku/hopfield-layers to /tmp/pip-req-build-fme36buv\n",
      "  Running command git clone --filter=blob:none --quiet https://github.com/ml-jku/hopfield-layers /tmp/pip-req-build-fme36buv\n",
      "  Resolved https://github.com/ml-jku/hopfield-layers to commit f56f929c95b77a070ae675ea4f56b6d54d36e730\n",
      "  Preparing metadata (setup.py) ... \u001b[?25ldone\n",
      "\u001b[?25hRequirement already satisfied: torch>=1.5.0 in /home/fulton/.local/lib/python3.9/site-packages (from hopfield-layers==1.0.2) (1.10.2)\n",
      "Requirement already satisfied: numpy>=1.20.0 in /home/fulton/.local/lib/python3.9/site-packages (from hopfield-layers==1.0.2) (1.22.2)\n",
      "Requirement already satisfied: typing-extensions in /home/fulton/.local/lib/python3.9/site-packages (from torch>=1.5.0->hopfield-layers==1.0.2) (4.1.1)\n"
     ]
    }
   ],
   "source": [
    "!pip3 install git+https://github.com/ml-jku/hopfield-layers"
   ]
  },
  {
   "cell_type": "code",
   "execution_count": 2,
   "metadata": {},
   "outputs": [],
   "source": [
    "# Import general modules used e.g. for plotting.\n",
    "import matplotlib.pyplot as plt\n",
    "import os\n",
    "import pandas as pd\n",
    "import seaborn as sns\n",
    "import sys\n",
    "import torch\n",
    "import numpy as np\n",
    "\n",
    "\n",
    "# Importing Hopfield-specific modules.\n",
    "from hflayers import Hopfield\n",
    "\n",
    "# Import auxiliary modules.\n",
    "from distutils.version import LooseVersion\n",
    "from typing import List, Tuple\n",
    "\n",
    "# Importing PyTorch specific modules.\n",
    "from torch import Tensor\n",
    "from torch.nn import Flatten, Linear, Module\n",
    "from torch.nn.functional import binary_cross_entropy_with_logits\n",
    "from torch.nn.utils import clip_grad_norm_\n",
    "from torch.optim import AdamW\n",
    "from torch.utils.data import DataLoader, Dataset\n",
    "from torch.utils.data.sampler import SubsetRandomSampler\n",
    "\n",
    "from sklearn.model_selection import train_test_split\n",
    "\n",
    "sns.set()\n",
    "sns.set_theme(style=\"dark\") # prioritys lol"
   ]
  },
  {
   "cell_type": "markdown",
   "metadata": {},
   "source": [
    "## Create Auxiliaries\n",
    "Before digging into Hopfield-based networks, a few auxiliary variables and functions need to be defined. This is nothing special with respect to Hopfield-based networks, but rather common preparation work of (almost) every machine learning setting (e.g. definition of a data loader as well as a training loop). We will see, that this comprises the most work of this whole demo."
   ]
  },
  {
   "cell_type": "code",
   "execution_count": 3,
   "metadata": {},
   "outputs": [],
   "source": [
    "input_shape = [3, 3] # the input shape used in this notebook\n",
    "output_shape = [3, 3] # the output shape used in this notebook\n",
    "topic_shape = [3, 3]\n",
    "zeros = torch.zeros(input_shape)\n",
    "ones = torch.ones(input_shape)"
   ]
  },
  {
   "cell_type": "code",
   "execution_count": 4,
   "metadata": {},
   "outputs": [],
   "source": [
    "#device = torch.device(r'cuda:0' if torch.cuda.is_available() else r'cpu')\n",
    "device = torch.device('cpu')"
   ]
  },
  {
   "cell_type": "code",
   "execution_count": 5,
   "metadata": {},
   "outputs": [],
   "source": [
    "#bit_pattern_set = BitPatternSet(\n",
    "#    num_bags=2048,\n",
    "#    num_instances=16,\n",
    "#    num_signals=8,\n",
    "#    num_signals_per_bag=1,\n",
    "#    num_bits=8)\n",
    "log_dir = f'resources/'\n",
    "os.makedirs(log_dir, exist_ok=True)"
   ]
  },
  {
   "cell_type": "code",
   "execution_count": 6,
   "metadata": {},
   "outputs": [],
   "source": [
    "def train_epoch(network: Module,\n",
    "                optimiser: AdamW,\n",
    "                data_loader: DataLoader\n",
    "               ) -> Tuple[float, float]:\n",
    "    \"\"\"\n",
    "    Execute one training epoch.\n",
    "    \n",
    "    :param network: network instance to train\n",
    "    :param optimiser: optimiser instance responsible for updating network parameters\n",
    "    :param data_loader: data loader instance providing training data\n",
    "    :return: tuple comprising training loss as well as accuracy\n",
    "    \"\"\"\n",
    "    network.train()\n",
    "    losses, accuracies = [], []\n",
    "    for sample_data in data_loader:\n",
    "        data, target = sample_data[r'data'], sample_data[r'target']\n",
    "        data, target = data.to(device=device), target.to(device=device)\n",
    "\n",
    "        # Process data by Hopfield-based network.\n",
    "        model_output = network.forward(input=data)\n",
    "\n",
    "        # Update network parameters.\n",
    "        optimiser.zero_grad()\n",
    "        loss = binary_cross_entropy_with_logits(input=model_output, target=target, reduction=r'mean')\n",
    "        loss.backward()\n",
    "        clip_grad_norm_(parameters=network.parameters(), max_norm=1.0, norm_type=2)\n",
    "        optimiser.step()\n",
    "\n",
    "        # Compute performance measures of current model.\n",
    "        accuracy = (model_output.sigmoid().round() == target).to(dtype=torch.float32).mean()\n",
    "        accuracies.append(accuracy.detach().item())\n",
    "        losses.append(loss.detach().item())\n",
    "    \n",
    "    # Report progress of training procedure.\n",
    "    return (sum(losses) / len(losses), sum(accuracies) / len(accuracies))\n",
    "\n",
    "\n",
    "def eval_iter(network: Module,\n",
    "              data_loader: DataLoader\n",
    "             ) -> Tuple[float, float]:\n",
    "    \"\"\"\n",
    "    Evaluate the current model.\n",
    "    \n",
    "    :param network: network instance to evaluate\n",
    "    :param data_loader: data loader instance providing validation data\n",
    "    :return: tuple comprising validation loss as well as accuracy\n",
    "    \"\"\"\n",
    "    network.eval()\n",
    "    with torch.no_grad():\n",
    "        losses, accuracies = [], []\n",
    "        for sample_data in data_loader:\n",
    "            data, target = sample_data[r'data'], sample_data[r'target']\n",
    "            data, target = data.to(device=device), target.to(device=device)\n",
    "\n",
    "            # Process data by Hopfield-based network.\n",
    "            model_output = network.forward(input=data)\n",
    "            loss = binary_cross_entropy_with_logits(input=model_output, target=target, reduction=r'mean')\n",
    "\n",
    "            # Compute performance measures of current model.\n",
    "            accuracy = (model_output.sigmoid().round() == target).to(dtype=torch.float32).mean()\n",
    "            accuracies.append(accuracy.detach().item())\n",
    "            losses.append(loss.detach().item())\n",
    "\n",
    "        # Report progress of validation procedure.\n",
    "        return (sum(losses) / len(losses), sum(accuracies) / len(accuracies))\n",
    "\n",
    "\n",
    "def operate(network: Module,\n",
    "            optimiser: AdamW,\n",
    "            data_loader_train: DataLoader,\n",
    "            data_loader_eval: DataLoader,\n",
    "            num_epochs: int = 1\n",
    "           ) -> Tuple[pd.DataFrame, pd.DataFrame]:\n",
    "    \"\"\"\n",
    "    Train the specified network by gradient descent using backpropagation.\n",
    "    \n",
    "    :param network: network instance to train\n",
    "    :param optimiser: optimiser instance responsible for updating network parameters\n",
    "    :param data_loader_train: data loader instance providing training data\n",
    "    :param data_loader_eval: data loader instance providing validation data\n",
    "    :param num_epochs: amount of epochs to train\n",
    "    :return: data frame comprising training as well as evaluation performance\n",
    "    \"\"\"\n",
    "    losses, accuracies = {r'train': [], r'eval': []}, {r'train': [], r'eval': []}\n",
    "    for epoch in range(num_epochs):\n",
    "        \n",
    "        # Train network.\n",
    "        performance = train_epoch(network, optimiser, data_loader_train)\n",
    "        losses[r'train'].append(performance[0])\n",
    "        accuracies[r'train'].append(performance[1])\n",
    "        \n",
    "        # Evaluate current model.\n",
    "        performance = eval_iter(network, data_loader_eval)\n",
    "        if epoch % 5 == 0:\n",
    "            print(\"---------------------------------\")\n",
    "            print(\"epoch:\", epoch, \"of\", num_epochs, \"\\naccuracy:\", performance[1], \"\\nloss:\", performance[0])\n",
    "        losses[r'eval'].append(performance[0])\n",
    "        accuracies[r'eval'].append(performance[1])\n",
    "    \n",
    "    # Report progress of training and validation procedures.\n",
    "    return pd.DataFrame(losses), pd.DataFrame(accuracies)"
   ]
  },
  {
   "cell_type": "code",
   "execution_count": 7,
   "metadata": {},
   "outputs": [],
   "source": [
    "def plot_performance(loss: pd.DataFrame,\n",
    "                     accuracy: pd.DataFrame,\n",
    "                     log_file: str\n",
    "                    ) -> None:\n",
    "    \"\"\"\n",
    "    Plot and save loss and accuracy.\n",
    "    \n",
    "    :param loss: loss to be plotted\n",
    "    :param accuracy: accuracy to be plotted\n",
    "    :param log_file: target file for storing the resulting plot\n",
    "    :return: None\n",
    "    \"\"\"\n",
    "    fig, ax = plt.subplots(1, 2, figsize=(20, 7))\n",
    "    \n",
    "    loss_plot = sns.lineplot(data=loss, ax=ax[0])\n",
    "    loss_plot.set(xlabel=r'Epoch', ylabel=r'Cross-entropy Loss')\n",
    "    \n",
    "    accuracy_plot = sns.lineplot(data=accuracy, ax=ax[1])\n",
    "    accuracy_plot.set(xlabel=r'Epoch', ylabel=r'Accuracy')\n",
    "    \n",
    "    ax[1].yaxis.set_label_position(r'right')\n",
    "    fig.tight_layout()\n",
    "    fig.savefig(log_file)\n",
    "    plt.show(fig)"
   ]
  },
  {
   "cell_type": "markdown",
   "metadata": {},
   "source": [
    "## The Friday DataFrame class\n"
   ]
  },
  {
   "cell_type": "code",
   "execution_count": 39,
   "metadata": {},
   "outputs": [],
   "source": [
    "def string_tensor(w):\n",
    "    return torch.ByteTensor(list(bytes(w, 'utf8')))"
   ]
  },
  {
   "cell_type": "code",
   "execution_count": 29,
   "metadata": {},
   "outputs": [],
   "source": [
    "class FridayDataset(Dataset):\n",
    "    def __init__(self, df, labels):\n",
    "        super().__init__()\n",
    "        self.df = df\n",
    "        self.topic = labels[0]\n",
    "        self.fact = labels[1]\n",
    "\n",
    "    def __len__(self):\n",
    "        # print len(self.landmarks_frame)\n",
    "        # return len(self.landmarks_frame)\n",
    "        return len(df.index)\n",
    "\n",
    "    def __getitem__(self, idx):\n",
    "        return {r'data': string_tensor(self.df.at[idx, self.topic]),  r'target': string_tensor(self.df.at[idx, self.fact])}\n"
   ]
  },
  {
   "cell_type": "markdown",
   "metadata": {},
   "source": [
    "## Build the Friday model"
   ]
  },
  {
   "cell_type": "code",
   "execution_count": 30,
   "metadata": {},
   "outputs": [],
   "source": [
    "class Friday(Module):\n",
    "    def __init__(self, input_size, num_instances):\n",
    "        super().__init__()\n",
    "        self.hopfield = Hopfield(\n",
    "            input_size=input_size,\n",
    "            hidden_size=8,\n",
    "            num_heads=8,\n",
    "            update_steps_max=3,\n",
    "            scaling=0.25)\n",
    "        self.flatten = Flatten()\n",
    "        self.output_projection = Linear(in_features=self.hopfield.output_size * num_instances, out_features=1)\n",
    "        self.flatten2 = Flatten(start_dim=0)\n",
    "    def forward(self, input):\n",
    "        x = input\n",
    "        x = self.hopfield(x)\n",
    "        x = self.flatten(x)\n",
    "        x = self.output_projection(x)\n",
    "        x = self.flatten2(x)\n",
    "        return x\n"
   ]
  },
  {
   "cell_type": "markdown",
   "metadata": {},
   "source": [
    "## Run Friday"
   ]
  },
  {
   "cell_type": "code",
   "execution_count": 40,
   "metadata": {},
   "outputs": [
    {
     "name": "stdout",
     "output_type": "stream",
     "text": [
      "{'data': tensor([[ 98, 101,  97, 118, 101, 114]], dtype=torch.uint8), 'target': tensor([[ 99, 117, 116, 101]], dtype=torch.uint8)}\n",
      "{'data': tensor([[ 98, 101,  97, 118, 101, 114]], dtype=torch.uint8), 'target': tensor([[102,  97, 115, 116]], dtype=torch.uint8)}\n",
      "{'data': tensor([[ 98, 101,  97, 118, 101, 114]], dtype=torch.uint8), 'target': tensor([[ 98, 117, 105, 108, 100, 115,  32, 100,  97, 109, 115]],\n",
      "       dtype=torch.uint8)}\n",
      "{'data': tensor([[ 98, 101,  97, 118, 101, 114]], dtype=torch.uint8), 'target': tensor([[114, 117, 110, 110, 105, 110, 103,  32, 105, 110,  32, 116, 104, 101,\n",
      "          32,  57,  48, 115]], dtype=torch.uint8)}\n",
      "{'data': tensor([[ 98, 101,  97, 118, 101, 114]], dtype=torch.uint8), 'target': tensor([[105, 115,  32,  99, 111, 111, 108]], dtype=torch.uint8)}\n",
      "{'data': tensor([[ 98, 101,  97, 118, 101, 114]], dtype=torch.uint8), 'target': tensor([[111, 114,  97, 110, 103, 101,  32, 116, 101, 101, 116, 104]],\n",
      "       dtype=torch.uint8)}\n",
      "{'data': tensor([[ 98, 101,  97, 118, 101, 114]], dtype=torch.uint8), 'target': tensor([[ 99, 111, 109, 109, 117, 110, 105,  99,  97, 116, 101,  32, 119, 105,\n",
      "         116, 104,  32, 116,  97, 105, 108, 115]], dtype=torch.uint8)}\n",
      "{'data': tensor([[ 98, 101,  97, 118, 101, 114]], dtype=torch.uint8), 'target': tensor([[111, 115, 117,  32, 109,  97, 115,  99, 111, 116]], dtype=torch.uint8)}\n",
      "{'data': tensor([[ 98, 101,  97, 118, 101, 114]], dtype=torch.uint8), 'target': tensor([[111, 114,  32, 115, 116,  97, 116, 101,  32,  97, 110, 105, 109,  97,\n",
      "         108]], dtype=torch.uint8)}\n",
      "{'data': tensor([[ 98, 101,  97, 118, 101, 114]], dtype=torch.uint8), 'target': tensor([[119, 101, 114, 101,  32, 104, 117, 110, 116, 101, 100,  32, 102, 111,\n",
      "         114,  32, 102, 117, 114]], dtype=torch.uint8)}\n",
      "{'data': tensor([[ 98, 101,  97, 118, 101, 114]], dtype=torch.uint8), 'target': tensor([[ 98, 117, 115, 121]], dtype=torch.uint8)}\n",
      "{'data': tensor([[ 98, 101,  97, 118, 101, 114]], dtype=torch.uint8), 'target': tensor([[115, 119, 105, 109]], dtype=torch.uint8)}\n",
      "{'data': tensor([[ 98, 101,  97, 118, 101, 114]], dtype=torch.uint8), 'target': tensor([[115, 116, 114, 111, 110, 103,  32, 116, 101, 101, 116, 104]],\n",
      "       dtype=torch.uint8)}\n",
      "{'data': tensor([[ 98, 101,  97, 118, 101, 114]], dtype=torch.uint8), 'target': tensor([[105, 110,  32, 110,  97, 114, 110, 105,  97]], dtype=torch.uint8)}\n",
      "{'data': tensor([[ 98, 101,  97, 118, 101, 114]], dtype=torch.uint8), 'target': tensor([[119, 101,  98,  98, 101, 100,  32, 102, 101, 101, 116]],\n",
      "       dtype=torch.uint8)}\n",
      "{'data': tensor([[ 98, 101,  97, 118, 101, 114]], dtype=torch.uint8), 'target': tensor([[115, 104,  97, 114, 112,  32,  99, 108,  97, 119, 115]],\n",
      "       dtype=torch.uint8)}\n",
      "{'data': tensor([[ 98, 101,  97, 118, 101, 114]], dtype=torch.uint8), 'target': tensor([[102, 108,  97, 116,  32, 116,  97, 105, 108, 115]], dtype=torch.uint8)}\n",
      "{'data': tensor([[ 98, 101,  97, 118, 101, 114]], dtype=torch.uint8), 'target': tensor([[119, 105, 100, 101,  32, 116,  97, 105, 108, 115]], dtype=torch.uint8)}\n",
      "{'data': tensor([[ 98, 101,  97, 118, 101, 114]], dtype=torch.uint8), 'target': tensor([[112, 114, 111, 109, 105, 110, 101, 110, 116,  32, 102, 114, 111, 110,\n",
      "         116,  32, 116, 101, 101, 116, 104]], dtype=torch.uint8)}\n",
      "{'data': tensor([[ 98, 101,  97, 118, 101, 114]], dtype=torch.uint8), 'target': tensor([[114, 101,  97, 108,  32, 115, 108, 105, 109,  32, 115, 104,  97, 100,\n",
      "         121]], dtype=torch.uint8)}\n"
     ]
    }
   ],
   "source": [
    "df = pd.read_csv(\"data/beavers.csv\") #TODO add a 80/20 datset splitter \n",
    "labels = [\"animal\", \"fact\"]\n",
    "dataset = FridayDataset(df = df, labels = labels)\n",
    "data_loader = DataLoader(dataset=dataset)\n",
    "string_tensor(\"hi\")\n",
    "for s in data_loader:\n",
    "    print(s)\n"
   ]
  },
  {
   "cell_type": "code",
   "execution_count": 21,
   "metadata": {},
   "outputs": [
    {
     "ename": "NameError",
     "evalue": "name 'train_dataset' is not defined",
     "output_type": "error",
     "traceback": [
      "\u001b[0;31m---------------------------------------------------------------------------\u001b[0m",
      "\u001b[0;31mNameError\u001b[0m                                 Traceback (most recent call last)",
      "\u001b[1;32m/home/fulton/code/ai_fun/friday2.ipynb Cell 18'\u001b[0m in \u001b[0;36m<cell line: 2>\u001b[0;34m()\u001b[0m\n\u001b[1;32m      <a href='vscode-notebook-cell:/home/fulton/code/ai_fun/friday2.ipynb#ch0000026?line=0'>1</a>\u001b[0m \u001b[39m# Create data loader of training set.\u001b[39;00m\n\u001b[0;32m----> <a href='vscode-notebook-cell:/home/fulton/code/ai_fun/friday2.ipynb#ch0000026?line=1'>2</a>\u001b[0m data_loader_train \u001b[39m=\u001b[39m DataLoader(dataset\u001b[39m=\u001b[39mtrain_dataset, batch_size\u001b[39m=\u001b[39m\u001b[39m32\u001b[39m)\n\u001b[1;32m      <a href='vscode-notebook-cell:/home/fulton/code/ai_fun/friday2.ipynb#ch0000026?line=3'>4</a>\u001b[0m \u001b[39m# Create data loader of validation set.\u001b[39;00m\n\u001b[1;32m      <a href='vscode-notebook-cell:/home/fulton/code/ai_fun/friday2.ipynb#ch0000026?line=4'>5</a>\u001b[0m data_loader_eval \u001b[39m=\u001b[39m DataLoader(dataset\u001b[39m=\u001b[39mtest_dataset, batch_size\u001b[39m=\u001b[39m\u001b[39m32\u001b[39m)\n",
      "\u001b[0;31mNameError\u001b[0m: name 'train_dataset' is not defined"
     ]
    }
   ],
   "source": [
    "# Create data loader of training set.\n",
    "data_loader_train = DataLoader(dataset=train_dataset, batch_size=32)\n",
    "\n",
    "# Create data loader of validation set.\n",
    "data_loader_eval = DataLoader(dataset=test_dataset, batch_size=32)"
   ]
  },
  {
   "cell_type": "code",
   "execution_count": 41,
   "metadata": {},
   "outputs": [
    {
     "name": "stdout",
     "output_type": "stream",
     "text": [
      "Friday(\n",
      "  (hopfield): Hopfield(\n",
      "    (association_core): HopfieldCore(\n",
      "      (out_proj): Linear(in_features=64, out_features=8, bias=True)\n",
      "    )\n",
      "    (norm_stored_pattern): LayerNorm((8,), eps=1e-05, elementwise_affine=True)\n",
      "    (norm_state_pattern): LayerNorm((8,), eps=1e-05, elementwise_affine=True)\n",
      "    (norm_pattern_projection): LayerNorm((8,), eps=1e-05, elementwise_affine=True)\n",
      "  )\n",
      "  (flatten): Flatten(start_dim=1, end_dim=-1)\n",
      "  (output_projection): Linear(in_features=160, out_features=1, bias=True)\n",
      "  (flatten2): Flatten(start_dim=0, end_dim=-1)\n",
      ")\n"
     ]
    }
   ],
   "source": [
    "network = Friday(input_size = 8, num_instances = len(dataset)).to(device=device)\n",
    "optimiser = AdamW(params=network.parameters(), lr=1e-3)\n",
    "print(network)"
   ]
  },
  {
   "cell_type": "code",
   "execution_count": 42,
   "metadata": {},
   "outputs": [
    {
     "ename": "IndexError",
     "evalue": "tuple index out of range",
     "output_type": "error",
     "traceback": [
      "\u001b[0;31m---------------------------------------------------------------------------\u001b[0m",
      "\u001b[0;31mIndexError\u001b[0m                                Traceback (most recent call last)",
      "\u001b[1;32m/home/fulton/code/ai_fun/friday2.ipynb Cell 20'\u001b[0m in \u001b[0;36m<cell line: 1>\u001b[0;34m()\u001b[0m\n\u001b[0;32m----> <a href='vscode-notebook-cell:/home/fulton/code/ai_fun/friday2.ipynb#ch0000019?line=0'>1</a>\u001b[0m losses, accuracies \u001b[39m=\u001b[39m operate(\n\u001b[1;32m      <a href='vscode-notebook-cell:/home/fulton/code/ai_fun/friday2.ipynb#ch0000019?line=1'>2</a>\u001b[0m     network\u001b[39m=\u001b[39mnetwork,\n\u001b[1;32m      <a href='vscode-notebook-cell:/home/fulton/code/ai_fun/friday2.ipynb#ch0000019?line=2'>3</a>\u001b[0m     optimiser\u001b[39m=\u001b[39moptimiser,\n\u001b[1;32m      <a href='vscode-notebook-cell:/home/fulton/code/ai_fun/friday2.ipynb#ch0000019?line=3'>4</a>\u001b[0m     data_loader_train\u001b[39m=\u001b[39mdata_loader,\n\u001b[1;32m      <a href='vscode-notebook-cell:/home/fulton/code/ai_fun/friday2.ipynb#ch0000019?line=4'>5</a>\u001b[0m     data_loader_eval\u001b[39m=\u001b[39mdata_loader,\n\u001b[1;32m      <a href='vscode-notebook-cell:/home/fulton/code/ai_fun/friday2.ipynb#ch0000019?line=5'>6</a>\u001b[0m     num_epochs\u001b[39m=\u001b[39m\u001b[39m500\u001b[39m)\n",
      "\u001b[1;32m/home/fulton/code/ai_fun/friday2.ipynb Cell 9'\u001b[0m in \u001b[0;36moperate\u001b[0;34m(network, optimiser, data_loader_train, data_loader_eval, num_epochs)\u001b[0m\n\u001b[1;32m     <a href='vscode-notebook-cell:/home/fulton/code/ai_fun/friday2.ipynb#ch0000012?line=83'>84</a>\u001b[0m losses, accuracies \u001b[39m=\u001b[39m {\u001b[39mr\u001b[39m\u001b[39m'\u001b[39m\u001b[39mtrain\u001b[39m\u001b[39m'\u001b[39m: [], \u001b[39mr\u001b[39m\u001b[39m'\u001b[39m\u001b[39meval\u001b[39m\u001b[39m'\u001b[39m: []}, {\u001b[39mr\u001b[39m\u001b[39m'\u001b[39m\u001b[39mtrain\u001b[39m\u001b[39m'\u001b[39m: [], \u001b[39mr\u001b[39m\u001b[39m'\u001b[39m\u001b[39meval\u001b[39m\u001b[39m'\u001b[39m: []}\n\u001b[1;32m     <a href='vscode-notebook-cell:/home/fulton/code/ai_fun/friday2.ipynb#ch0000012?line=84'>85</a>\u001b[0m \u001b[39mfor\u001b[39;00m epoch \u001b[39min\u001b[39;00m \u001b[39mrange\u001b[39m(num_epochs):\n\u001b[1;32m     <a href='vscode-notebook-cell:/home/fulton/code/ai_fun/friday2.ipynb#ch0000012?line=85'>86</a>\u001b[0m     \n\u001b[1;32m     <a href='vscode-notebook-cell:/home/fulton/code/ai_fun/friday2.ipynb#ch0000012?line=86'>87</a>\u001b[0m     \u001b[39m# Train network.\u001b[39;00m\n\u001b[0;32m---> <a href='vscode-notebook-cell:/home/fulton/code/ai_fun/friday2.ipynb#ch0000012?line=87'>88</a>\u001b[0m     performance \u001b[39m=\u001b[39m train_epoch(network, optimiser, data_loader_train)\n\u001b[1;32m     <a href='vscode-notebook-cell:/home/fulton/code/ai_fun/friday2.ipynb#ch0000012?line=88'>89</a>\u001b[0m     losses[\u001b[39mr\u001b[39m\u001b[39m'\u001b[39m\u001b[39mtrain\u001b[39m\u001b[39m'\u001b[39m]\u001b[39m.\u001b[39mappend(performance[\u001b[39m0\u001b[39m])\n\u001b[1;32m     <a href='vscode-notebook-cell:/home/fulton/code/ai_fun/friday2.ipynb#ch0000012?line=89'>90</a>\u001b[0m     accuracies[\u001b[39mr\u001b[39m\u001b[39m'\u001b[39m\u001b[39mtrain\u001b[39m\u001b[39m'\u001b[39m]\u001b[39m.\u001b[39mappend(performance[\u001b[39m1\u001b[39m])\n",
      "\u001b[1;32m/home/fulton/code/ai_fun/friday2.ipynb Cell 9'\u001b[0m in \u001b[0;36mtrain_epoch\u001b[0;34m(network, optimiser, data_loader)\u001b[0m\n\u001b[1;32m     <a href='vscode-notebook-cell:/home/fulton/code/ai_fun/friday2.ipynb#ch0000012?line=16'>17</a>\u001b[0m data, target \u001b[39m=\u001b[39m data\u001b[39m.\u001b[39mto(device\u001b[39m=\u001b[39mdevice), target\u001b[39m.\u001b[39mto(device\u001b[39m=\u001b[39mdevice)\n\u001b[1;32m     <a href='vscode-notebook-cell:/home/fulton/code/ai_fun/friday2.ipynb#ch0000012?line=18'>19</a>\u001b[0m \u001b[39m# Process data by Hopfield-based network.\u001b[39;00m\n\u001b[0;32m---> <a href='vscode-notebook-cell:/home/fulton/code/ai_fun/friday2.ipynb#ch0000012?line=19'>20</a>\u001b[0m model_output \u001b[39m=\u001b[39m network\u001b[39m.\u001b[39;49mforward(\u001b[39minput\u001b[39;49m\u001b[39m=\u001b[39;49mdata)\n\u001b[1;32m     <a href='vscode-notebook-cell:/home/fulton/code/ai_fun/friday2.ipynb#ch0000012?line=21'>22</a>\u001b[0m \u001b[39m# Update network parameters.\u001b[39;00m\n\u001b[1;32m     <a href='vscode-notebook-cell:/home/fulton/code/ai_fun/friday2.ipynb#ch0000012?line=22'>23</a>\u001b[0m optimiser\u001b[39m.\u001b[39mzero_grad()\n",
      "\u001b[1;32m/home/fulton/code/ai_fun/friday2.ipynb Cell 15'\u001b[0m in \u001b[0;36mFriday.forward\u001b[0;34m(self, input)\u001b[0m\n\u001b[1;32m     <a href='vscode-notebook-cell:/home/fulton/code/ai_fun/friday2.ipynb#ch0000018?line=12'>13</a>\u001b[0m \u001b[39mdef\u001b[39;00m \u001b[39mforward\u001b[39m(\u001b[39mself\u001b[39m, \u001b[39minput\u001b[39m):\n\u001b[1;32m     <a href='vscode-notebook-cell:/home/fulton/code/ai_fun/friday2.ipynb#ch0000018?line=13'>14</a>\u001b[0m     x \u001b[39m=\u001b[39m \u001b[39minput\u001b[39m\n\u001b[0;32m---> <a href='vscode-notebook-cell:/home/fulton/code/ai_fun/friday2.ipynb#ch0000018?line=14'>15</a>\u001b[0m     x \u001b[39m=\u001b[39m \u001b[39mself\u001b[39;49m\u001b[39m.\u001b[39;49mhopfield(x)\n\u001b[1;32m     <a href='vscode-notebook-cell:/home/fulton/code/ai_fun/friday2.ipynb#ch0000018?line=15'>16</a>\u001b[0m     x \u001b[39m=\u001b[39m \u001b[39mself\u001b[39m\u001b[39m.\u001b[39mflatten(x)\n\u001b[1;32m     <a href='vscode-notebook-cell:/home/fulton/code/ai_fun/friday2.ipynb#ch0000018?line=16'>17</a>\u001b[0m     x \u001b[39m=\u001b[39m \u001b[39mself\u001b[39m\u001b[39m.\u001b[39moutput_projection(x)\n",
      "File \u001b[0;32m~/.local/lib/python3.9/site-packages/torch/nn/modules/module.py:1102\u001b[0m, in \u001b[0;36mModule._call_impl\u001b[0;34m(self, *input, **kwargs)\u001b[0m\n\u001b[1;32m   <a href='file:///~/.local/lib/python3.9/site-packages/torch/nn/modules/module.py?line=1097'>1098</a>\u001b[0m \u001b[39m# If we don't have any hooks, we want to skip the rest of the logic in\u001b[39;00m\n\u001b[1;32m   <a href='file:///~/.local/lib/python3.9/site-packages/torch/nn/modules/module.py?line=1098'>1099</a>\u001b[0m \u001b[39m# this function, and just call forward.\u001b[39;00m\n\u001b[1;32m   <a href='file:///~/.local/lib/python3.9/site-packages/torch/nn/modules/module.py?line=1099'>1100</a>\u001b[0m \u001b[39mif\u001b[39;00m \u001b[39mnot\u001b[39;00m (\u001b[39mself\u001b[39m\u001b[39m.\u001b[39m_backward_hooks \u001b[39mor\u001b[39;00m \u001b[39mself\u001b[39m\u001b[39m.\u001b[39m_forward_hooks \u001b[39mor\u001b[39;00m \u001b[39mself\u001b[39m\u001b[39m.\u001b[39m_forward_pre_hooks \u001b[39mor\u001b[39;00m _global_backward_hooks\n\u001b[1;32m   <a href='file:///~/.local/lib/python3.9/site-packages/torch/nn/modules/module.py?line=1100'>1101</a>\u001b[0m         \u001b[39mor\u001b[39;00m _global_forward_hooks \u001b[39mor\u001b[39;00m _global_forward_pre_hooks):\n\u001b[0;32m-> <a href='file:///~/.local/lib/python3.9/site-packages/torch/nn/modules/module.py?line=1101'>1102</a>\u001b[0m     \u001b[39mreturn\u001b[39;00m forward_call(\u001b[39m*\u001b[39;49m\u001b[39minput\u001b[39;49m, \u001b[39m*\u001b[39;49m\u001b[39m*\u001b[39;49mkwargs)\n\u001b[1;32m   <a href='file:///~/.local/lib/python3.9/site-packages/torch/nn/modules/module.py?line=1102'>1103</a>\u001b[0m \u001b[39m# Do not call functions when jit is used\u001b[39;00m\n\u001b[1;32m   <a href='file:///~/.local/lib/python3.9/site-packages/torch/nn/modules/module.py?line=1103'>1104</a>\u001b[0m full_backward_hooks, non_full_backward_hooks \u001b[39m=\u001b[39m [], []\n",
      "File \u001b[0;32m~/.local/lib/python3.9/site-packages/hflayers/__init__.py:232\u001b[0m, in \u001b[0;36mHopfield.forward\u001b[0;34m(self, input, stored_pattern_padding_mask, association_mask)\u001b[0m\n\u001b[1;32m    <a href='file:///~/.local/lib/python3.9/site-packages/hflayers/__init__.py?line=220'>221</a>\u001b[0m \u001b[39mdef\u001b[39;00m \u001b[39mforward\u001b[39m(\u001b[39mself\u001b[39m, \u001b[39minput\u001b[39m: Union[Tensor, Tuple[Tensor, Tensor, Tensor]],\n\u001b[1;32m    <a href='file:///~/.local/lib/python3.9/site-packages/hflayers/__init__.py?line=221'>222</a>\u001b[0m             stored_pattern_padding_mask: Optional[Tensor] \u001b[39m=\u001b[39m \u001b[39mNone\u001b[39;00m,\n\u001b[1;32m    <a href='file:///~/.local/lib/python3.9/site-packages/hflayers/__init__.py?line=222'>223</a>\u001b[0m             association_mask: Optional[Tensor] \u001b[39m=\u001b[39m \u001b[39mNone\u001b[39;00m) \u001b[39m-\u001b[39m\u001b[39m>\u001b[39m Tensor:\n\u001b[1;32m    <a href='file:///~/.local/lib/python3.9/site-packages/hflayers/__init__.py?line=223'>224</a>\u001b[0m     \u001b[39m\"\"\"\u001b[39;00m\n\u001b[1;32m    <a href='file:///~/.local/lib/python3.9/site-packages/hflayers/__init__.py?line=224'>225</a>\u001b[0m \u001b[39m    Apply Hopfield association on specified data.\u001b[39;00m\n\u001b[1;32m    <a href='file:///~/.local/lib/python3.9/site-packages/hflayers/__init__.py?line=225'>226</a>\u001b[0m \n\u001b[0;32m   (...)\u001b[0m\n\u001b[1;32m    <a href='file:///~/.local/lib/python3.9/site-packages/hflayers/__init__.py?line=229'>230</a>\u001b[0m \u001b[39m    :return: Hopfield-processed input data\u001b[39;00m\n\u001b[1;32m    <a href='file:///~/.local/lib/python3.9/site-packages/hflayers/__init__.py?line=230'>231</a>\u001b[0m \u001b[39m    \"\"\"\u001b[39;00m\n\u001b[0;32m--> <a href='file:///~/.local/lib/python3.9/site-packages/hflayers/__init__.py?line=231'>232</a>\u001b[0m     association_output \u001b[39m=\u001b[39m \u001b[39mself\u001b[39m\u001b[39m.\u001b[39m_maybe_transpose(\u001b[39mself\u001b[39;49m\u001b[39m.\u001b[39;49m_associate(\n\u001b[1;32m    <a href='file:///~/.local/lib/python3.9/site-packages/hflayers/__init__.py?line=232'>233</a>\u001b[0m         data\u001b[39m=\u001b[39;49m\u001b[39minput\u001b[39;49m, return_raw_associations\u001b[39m=\u001b[39;49m\u001b[39mFalse\u001b[39;49;00m,\n\u001b[1;32m    <a href='file:///~/.local/lib/python3.9/site-packages/hflayers/__init__.py?line=233'>234</a>\u001b[0m         stored_pattern_padding_mask\u001b[39m=\u001b[39;49mstored_pattern_padding_mask,\n\u001b[1;32m    <a href='file:///~/.local/lib/python3.9/site-packages/hflayers/__init__.py?line=234'>235</a>\u001b[0m         association_mask\u001b[39m=\u001b[39;49massociation_mask)[\u001b[39m0\u001b[39m])\n\u001b[1;32m    <a href='file:///~/.local/lib/python3.9/site-packages/hflayers/__init__.py?line=235'>236</a>\u001b[0m     \u001b[39mif\u001b[39;00m \u001b[39mself\u001b[39m\u001b[39m.\u001b[39massociation_activation \u001b[39mis\u001b[39;00m \u001b[39mnot\u001b[39;00m \u001b[39mNone\u001b[39;00m:\n\u001b[1;32m    <a href='file:///~/.local/lib/python3.9/site-packages/hflayers/__init__.py?line=236'>237</a>\u001b[0m         association_output \u001b[39m=\u001b[39m \u001b[39mself\u001b[39m\u001b[39m.\u001b[39massociation_activation(association_output)\n",
      "File \u001b[0;32m~/.local/lib/python3.9/site-packages/hflayers/__init__.py:202\u001b[0m, in \u001b[0;36mHopfield._associate\u001b[0;34m(self, data, return_raw_associations, return_projected_patterns, stored_pattern_padding_mask, association_mask)\u001b[0m\n\u001b[1;32m    <a href='file:///~/.local/lib/python3.9/site-packages/hflayers/__init__.py?line=198'>199</a>\u001b[0m \u001b[39m# Optionally apply stored pattern normalization.\u001b[39;00m\n\u001b[1;32m    <a href='file:///~/.local/lib/python3.9/site-packages/hflayers/__init__.py?line=199'>200</a>\u001b[0m \u001b[39mif\u001b[39;00m \u001b[39mself\u001b[39m\u001b[39m.\u001b[39mnorm_stored_pattern \u001b[39mis\u001b[39;00m \u001b[39mnot\u001b[39;00m \u001b[39mNone\u001b[39;00m:\n\u001b[1;32m    <a href='file:///~/.local/lib/python3.9/site-packages/hflayers/__init__.py?line=200'>201</a>\u001b[0m     stored_pattern \u001b[39m=\u001b[39m \u001b[39mself\u001b[39m\u001b[39m.\u001b[39mnorm_stored_pattern(\u001b[39minput\u001b[39m\u001b[39m=\u001b[39mstored_pattern\u001b[39m.\u001b[39mreshape(\n\u001b[0;32m--> <a href='file:///~/.local/lib/python3.9/site-packages/hflayers/__init__.py?line=201'>202</a>\u001b[0m         shape\u001b[39m=\u001b[39m(\u001b[39m-\u001b[39m\u001b[39m1\u001b[39m, stored_pattern\u001b[39m.\u001b[39;49mshape[\u001b[39m2\u001b[39;49m])))\u001b[39m.\u001b[39mreshape(shape\u001b[39m=\u001b[39mstored_pattern\u001b[39m.\u001b[39mshape)\n\u001b[1;32m    <a href='file:///~/.local/lib/python3.9/site-packages/hflayers/__init__.py?line=203'>204</a>\u001b[0m \u001b[39m# Optionally apply state pattern normalization.\u001b[39;00m\n\u001b[1;32m    <a href='file:///~/.local/lib/python3.9/site-packages/hflayers/__init__.py?line=204'>205</a>\u001b[0m \u001b[39mif\u001b[39;00m \u001b[39mself\u001b[39m\u001b[39m.\u001b[39mnorm_state_pattern \u001b[39mis\u001b[39;00m \u001b[39mnot\u001b[39;00m \u001b[39mNone\u001b[39;00m:\n",
      "\u001b[0;31mIndexError\u001b[0m: tuple index out of range"
     ]
    }
   ],
   "source": [
    "losses, accuracies = operate(\n",
    "    network=network,\n",
    "    optimiser=optimiser,\n",
    "    data_loader_train=data_loader,\n",
    "    data_loader_eval=data_loader,\n",
    "    num_epochs=500)"
   ]
  },
  {
   "cell_type": "code",
   "execution_count": null,
   "metadata": {},
   "outputs": [],
   "source": [
    "plot_performance(loss=losses, accuracy=accuracies, log_file=f'{log_dir}/hopfield_base.pdf')"
   ]
  }
 ],
 "metadata": {
  "interpreter": {
   "hash": "31f2aee4e71d21fbe5cf8b01ff0e069b9275f58929596ceb00d14d90e3e16cd6"
  },
  "kernelspec": {
   "display_name": "Python 3.9.2 64-bit",
   "language": "python",
   "name": "python3"
  },
  "language_info": {
   "codemirror_mode": {
    "name": "ipython",
    "version": 3
   },
   "file_extension": ".py",
   "mimetype": "text/x-python",
   "name": "python",
   "nbconvert_exporter": "python",
   "pygments_lexer": "ipython3",
   "version": "3.9.9"
  },
  "orig_nbformat": 4
 },
 "nbformat": 4,
 "nbformat_minor": 2
}
